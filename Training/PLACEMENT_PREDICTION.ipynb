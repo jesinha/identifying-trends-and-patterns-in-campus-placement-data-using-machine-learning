{
  "nbformat": 4,
  "nbformat_minor": 0,
  "metadata": {
    "colab": {
      "provenance": []
    },
    "kernelspec": {
      "name": "python3",
      "display_name": "Python 3"
    },
    "language_info": {
      "name": "python"
    }
  },
  "cells": [
    {
      "cell_type": "code",
      "execution_count": 1,
      "metadata": {
        "id": "ouAbYxFtENyz"
      },
      "outputs": [],
      "source": [
        "import numpy as np\n",
        "import pandas as pd\n",
        "import os\n",
        "import seaborn as sns\n",
        "import matplotlib.pyplot as plt\n",
        "from sklearn import svm\n",
        "from sklearn.metrics import accuracy_score\n",
        "from sklearn.neighbors import KNeighborsClassifier\n",
        "from sklearn import metrics\n",
        "from sklearn.model_selection import cross_val_score\n",
        "from sklearn import preprocessing\n",
        "from sklearn.model_selection import train_test_split\n",
        "from sklearn.preprocessing import StandardScaler\n",
        "import joblib\n",
        "from sklearn.metrics import accuracy_score\n",
        "import warnings\n",
        "warnings.filterwarnings('ignore')\n",
        "\n",
        "df = pd.read_csv(r\"/content/collegePlace.csv\")"
      ]
    },
    {
      "cell_type": "markdown",
      "source": [
        "### **READ THE DATASET**"
      ],
      "metadata": {
        "id": "xusWXLvKnj8Y"
      }
    },
    {
      "cell_type": "code",
      "source": [
        "df.head()"
      ],
      "metadata": {
        "id": "69gONVcAnezZ",
        "colab": {
          "base_uri": "https://localhost:8080/",
          "height": 206
        },
        "outputId": "69fadfc0-b6f1-4837-929c-610103bf3d1b"
      },
      "execution_count": 2,
      "outputs": [
        {
          "output_type": "execute_result",
          "data": {
            "text/plain": [
              "   Age  Gender                         Stream  Internships  CGPA  Hostel  \\\n",
              "0   22    Male  Electronics And Communication            1     8       1   \n",
              "1   21  Female               Computer Science            0     7       1   \n",
              "2   22  Female         Information Technology            1     6       0   \n",
              "3   21    Male         Information Technology            0     8       0   \n",
              "4   22    Male                     Mechanical            0     8       1   \n",
              "\n",
              "   HistoryOfBacklogs  PlacedOrNot  \n",
              "0                  1            1  \n",
              "1                  1            1  \n",
              "2                  0            1  \n",
              "3                  1            1  \n",
              "4                  0            1  "
            ],
            "text/html": [
              "\n",
              "  <div id=\"df-fda99387-3961-454c-8b33-e0cbdd21c711\">\n",
              "    <div class=\"colab-df-container\">\n",
              "      <div>\n",
              "<style scoped>\n",
              "    .dataframe tbody tr th:only-of-type {\n",
              "        vertical-align: middle;\n",
              "    }\n",
              "\n",
              "    .dataframe tbody tr th {\n",
              "        vertical-align: top;\n",
              "    }\n",
              "\n",
              "    .dataframe thead th {\n",
              "        text-align: right;\n",
              "    }\n",
              "</style>\n",
              "<table border=\"1\" class=\"dataframe\">\n",
              "  <thead>\n",
              "    <tr style=\"text-align: right;\">\n",
              "      <th></th>\n",
              "      <th>Age</th>\n",
              "      <th>Gender</th>\n",
              "      <th>Stream</th>\n",
              "      <th>Internships</th>\n",
              "      <th>CGPA</th>\n",
              "      <th>Hostel</th>\n",
              "      <th>HistoryOfBacklogs</th>\n",
              "      <th>PlacedOrNot</th>\n",
              "    </tr>\n",
              "  </thead>\n",
              "  <tbody>\n",
              "    <tr>\n",
              "      <th>0</th>\n",
              "      <td>22</td>\n",
              "      <td>Male</td>\n",
              "      <td>Electronics And Communication</td>\n",
              "      <td>1</td>\n",
              "      <td>8</td>\n",
              "      <td>1</td>\n",
              "      <td>1</td>\n",
              "      <td>1</td>\n",
              "    </tr>\n",
              "    <tr>\n",
              "      <th>1</th>\n",
              "      <td>21</td>\n",
              "      <td>Female</td>\n",
              "      <td>Computer Science</td>\n",
              "      <td>0</td>\n",
              "      <td>7</td>\n",
              "      <td>1</td>\n",
              "      <td>1</td>\n",
              "      <td>1</td>\n",
              "    </tr>\n",
              "    <tr>\n",
              "      <th>2</th>\n",
              "      <td>22</td>\n",
              "      <td>Female</td>\n",
              "      <td>Information Technology</td>\n",
              "      <td>1</td>\n",
              "      <td>6</td>\n",
              "      <td>0</td>\n",
              "      <td>0</td>\n",
              "      <td>1</td>\n",
              "    </tr>\n",
              "    <tr>\n",
              "      <th>3</th>\n",
              "      <td>21</td>\n",
              "      <td>Male</td>\n",
              "      <td>Information Technology</td>\n",
              "      <td>0</td>\n",
              "      <td>8</td>\n",
              "      <td>0</td>\n",
              "      <td>1</td>\n",
              "      <td>1</td>\n",
              "    </tr>\n",
              "    <tr>\n",
              "      <th>4</th>\n",
              "      <td>22</td>\n",
              "      <td>Male</td>\n",
              "      <td>Mechanical</td>\n",
              "      <td>0</td>\n",
              "      <td>8</td>\n",
              "      <td>1</td>\n",
              "      <td>0</td>\n",
              "      <td>1</td>\n",
              "    </tr>\n",
              "  </tbody>\n",
              "</table>\n",
              "</div>\n",
              "      <button class=\"colab-df-convert\" onclick=\"convertToInteractive('df-fda99387-3961-454c-8b33-e0cbdd21c711')\"\n",
              "              title=\"Convert this dataframe to an interactive table.\"\n",
              "              style=\"display:none;\">\n",
              "        \n",
              "  <svg xmlns=\"http://www.w3.org/2000/svg\" height=\"24px\"viewBox=\"0 0 24 24\"\n",
              "       width=\"24px\">\n",
              "    <path d=\"M0 0h24v24H0V0z\" fill=\"none\"/>\n",
              "    <path d=\"M18.56 5.44l.94 2.06.94-2.06 2.06-.94-2.06-.94-.94-2.06-.94 2.06-2.06.94zm-11 1L8.5 8.5l.94-2.06 2.06-.94-2.06-.94L8.5 2.5l-.94 2.06-2.06.94zm10 10l.94 2.06.94-2.06 2.06-.94-2.06-.94-.94-2.06-.94 2.06-2.06.94z\"/><path d=\"M17.41 7.96l-1.37-1.37c-.4-.4-.92-.59-1.43-.59-.52 0-1.04.2-1.43.59L10.3 9.45l-7.72 7.72c-.78.78-.78 2.05 0 2.83L4 21.41c.39.39.9.59 1.41.59.51 0 1.02-.2 1.41-.59l7.78-7.78 2.81-2.81c.8-.78.8-2.07 0-2.86zM5.41 20L4 18.59l7.72-7.72 1.47 1.35L5.41 20z\"/>\n",
              "  </svg>\n",
              "      </button>\n",
              "      \n",
              "  <style>\n",
              "    .colab-df-container {\n",
              "      display:flex;\n",
              "      flex-wrap:wrap;\n",
              "      gap: 12px;\n",
              "    }\n",
              "\n",
              "    .colab-df-convert {\n",
              "      background-color: #E8F0FE;\n",
              "      border: none;\n",
              "      border-radius: 50%;\n",
              "      cursor: pointer;\n",
              "      display: none;\n",
              "      fill: #1967D2;\n",
              "      height: 32px;\n",
              "      padding: 0 0 0 0;\n",
              "      width: 32px;\n",
              "    }\n",
              "\n",
              "    .colab-df-convert:hover {\n",
              "      background-color: #E2EBFA;\n",
              "      box-shadow: 0px 1px 2px rgba(60, 64, 67, 0.3), 0px 1px 3px 1px rgba(60, 64, 67, 0.15);\n",
              "      fill: #174EA6;\n",
              "    }\n",
              "\n",
              "    [theme=dark] .colab-df-convert {\n",
              "      background-color: #3B4455;\n",
              "      fill: #D2E3FC;\n",
              "    }\n",
              "\n",
              "    [theme=dark] .colab-df-convert:hover {\n",
              "      background-color: #434B5C;\n",
              "      box-shadow: 0px 1px 3px 1px rgba(0, 0, 0, 0.15);\n",
              "      filter: drop-shadow(0px 1px 2px rgba(0, 0, 0, 0.3));\n",
              "      fill: #FFFFFF;\n",
              "    }\n",
              "  </style>\n",
              "\n",
              "      <script>\n",
              "        const buttonEl =\n",
              "          document.querySelector('#df-fda99387-3961-454c-8b33-e0cbdd21c711 button.colab-df-convert');\n",
              "        buttonEl.style.display =\n",
              "          google.colab.kernel.accessAllowed ? 'block' : 'none';\n",
              "\n",
              "        async function convertToInteractive(key) {\n",
              "          const element = document.querySelector('#df-fda99387-3961-454c-8b33-e0cbdd21c711');\n",
              "          const dataTable =\n",
              "            await google.colab.kernel.invokeFunction('convertToInteractive',\n",
              "                                                     [key], {});\n",
              "          if (!dataTable) return;\n",
              "\n",
              "          const docLinkHtml = 'Like what you see? Visit the ' +\n",
              "            '<a target=\"_blank\" href=https://colab.research.google.com/notebooks/data_table.ipynb>data table notebook</a>'\n",
              "            + ' to learn more about interactive tables.';\n",
              "          element.innerHTML = '';\n",
              "          dataTable['output_type'] = 'display_data';\n",
              "          await google.colab.output.renderOutput(dataTable, element);\n",
              "          const docLink = document.createElement('div');\n",
              "          docLink.innerHTML = docLinkHtml;\n",
              "          element.appendChild(docLink);\n",
              "        }\n",
              "      </script>\n",
              "    </div>\n",
              "  </div>\n",
              "  "
            ]
          },
          "metadata": {},
          "execution_count": 2
        }
      ]
    },
    {
      "cell_type": "markdown",
      "source": [
        "### **DATA PREPARATION--HANDLING MISSING VALUES**"
      ],
      "metadata": {
        "id": "ErhHUT-snCAM"
      }
    },
    {
      "cell_type": "code",
      "source": [
        "df.info()"
      ],
      "metadata": {
        "id": "EOiBuWckm1NV",
        "colab": {
          "base_uri": "https://localhost:8080/"
        },
        "outputId": "121bd0af-4418-43a5-8be2-71643260b417"
      },
      "execution_count": 3,
      "outputs": [
        {
          "output_type": "stream",
          "name": "stdout",
          "text": [
            "<class 'pandas.core.frame.DataFrame'>\n",
            "RangeIndex: 2966 entries, 0 to 2965\n",
            "Data columns (total 8 columns):\n",
            " #   Column             Non-Null Count  Dtype \n",
            "---  ------             --------------  ----- \n",
            " 0   Age                2966 non-null   int64 \n",
            " 1   Gender             2966 non-null   object\n",
            " 2   Stream             2966 non-null   object\n",
            " 3   Internships        2966 non-null   int64 \n",
            " 4   CGPA               2966 non-null   int64 \n",
            " 5   Hostel             2966 non-null   int64 \n",
            " 6   HistoryOfBacklogs  2966 non-null   int64 \n",
            " 7   PlacedOrNot        2966 non-null   int64 \n",
            "dtypes: int64(6), object(2)\n",
            "memory usage: 185.5+ KB\n"
          ]
        }
      ]
    },
    {
      "cell_type": "code",
      "source": [
        "df.isnull().sum()"
      ],
      "metadata": {
        "id": "w1j6ezmNnOFk",
        "colab": {
          "base_uri": "https://localhost:8080/"
        },
        "outputId": "e45a86fd-3111-452a-aa3c-6c9f15e2e1ed"
      },
      "execution_count": 4,
      "outputs": [
        {
          "output_type": "execute_result",
          "data": {
            "text/plain": [
              "Age                  0\n",
              "Gender               0\n",
              "Stream               0\n",
              "Internships          0\n",
              "CGPA                 0\n",
              "Hostel               0\n",
              "HistoryOfBacklogs    0\n",
              "PlacedOrNot          0\n",
              "dtype: int64"
            ]
          },
          "metadata": {},
          "execution_count": 4
        }
      ]
    },
    {
      "cell_type": "markdown",
      "source": [
        "### **HANDLING OUTLIERS**"
      ],
      "metadata": {
        "id": "G4UWtYjkmzOF"
      }
    },
    {
      "cell_type": "code",
      "source": [
        "sns.displot(df['Age'], kde=True,)"
      ],
      "metadata": {
        "id": "d4aJyTdEmdPC",
        "colab": {
          "base_uri": "https://localhost:8080/",
          "height": 523
        },
        "outputId": "eb35628f-f090-4367-c260-f960d84bc83f"
      },
      "execution_count": 5,
      "outputs": [
        {
          "output_type": "execute_result",
          "data": {
            "text/plain": [
              "<seaborn.axisgrid.FacetGrid at 0x7fcc71b98e50>"
            ]
          },
          "metadata": {},
          "execution_count": 5
        },
        {
          "output_type": "display_data",
          "data": {
            "text/plain": [
              "<Figure size 500x500 with 1 Axes>"
            ],
            "image/png": "[encoded data removed]"
          },
          "metadata": {}
        }
      ]
    },
    {
      "cell_type": "markdown",
      "source": [
        "### **HANDLING CATEOGORICAL VALUES**"
      ],
      "metadata": {
        "id": "HSuraKOOmF4z"
      }
    },
    {
      "cell_type": "code",
      "source": [
        "df.head()"
      ],
      "metadata": {
        "id": "TsMD6kA4EhDT",
        "colab": {
          "base_uri": "https://localhost:8080/",
          "height": 206
        },
        "outputId": "14994f78-e6e5-416a-e80e-152a5afc5f62"
      },
      "execution_count": 6,
      "outputs": [
        {
          "output_type": "execute_result",
          "data": {
            "text/plain": [
              "   Age  Gender                         Stream  Internships  CGPA  Hostel  \\\n",
              "0   22    Male  Electronics And Communication            1     8       1   \n",
              "1   21  Female               Computer Science            0     7       1   \n",
              "2   22  Female         Information Technology            1     6       0   \n",
              "3   21    Male         Information Technology            0     8       0   \n",
              "4   22    Male                     Mechanical            0     8       1   \n",
              "\n",
              "   HistoryOfBacklogs  PlacedOrNot  \n",
              "0                  1            1  \n",
              "1                  1            1  \n",
              "2                  0            1  \n",
              "3                  1            1  \n",
              "4                  0            1  "
            ],
            "text/html": [
              "\n",
              "  <div id=\"df-ff758faa-41f0-4982-89cb-2b8499cb7e4b\">\n",
              "    <div class=\"colab-df-container\">\n",
              "      <div>\n",
              "<style scoped>\n",
              "    .dataframe tbody tr th:only-of-type {\n",
              "        vertical-align: middle;\n",
              "    }\n",
              "\n",
              "    .dataframe tbody tr th {\n",
              "        vertical-align: top;\n",
              "    }\n",
              "\n",
              "    .dataframe thead th {\n",
              "        text-align: right;\n",
              "    }\n",
              "</style>\n",
              "<table border=\"1\" class=\"dataframe\">\n",
              "  <thead>\n",
              "    <tr style=\"text-align: right;\">\n",
              "      <th></th>\n",
              "      <th>Age</th>\n",
              "      <th>Gender</th>\n",
              "      <th>Stream</th>\n",
              "      <th>Internships</th>\n",
              "      <th>CGPA</th>\n",
              "      <th>Hostel</th>\n",
              "      <th>HistoryOfBacklogs</th>\n",
              "      <th>PlacedOrNot</th>\n",
              "    </tr>\n",
              "  </thead>\n",
              "  <tbody>\n",
              "    <tr>\n",
              "      <th>0</th>\n",
              "      <td>22</td>\n",
              "      <td>Male</td>\n",
              "      <td>Electronics And Communication</td>\n",
              "      <td>1</td>\n",
              "      <td>8</td>\n",
              "      <td>1</td>\n",
              "      <td>1</td>\n",
              "      <td>1</td>\n",
              "    </tr>\n",
              "    <tr>\n",
              "      <th>1</th>\n",
              "      <td>21</td>\n",
              "      <td>Female</td>\n",
              "      <td>Computer Science</td>\n",
              "      <td>0</td>\n",
              "      <td>7</td>\n",
              "      <td>1</td>\n",
              "      <td>1</td>\n",
              "      <td>1</td>\n",
              "    </tr>\n",
              "    <tr>\n",
              "      <th>2</th>\n",
              "      <td>22</td>\n",
              "      <td>Female</td>\n",
              "      <td>Information Technology</td>\n",
              "      <td>1</td>\n",
              "      <td>6</td>\n",
              "      <td>0</td>\n",
              "      <td>0</td>\n",
              "      <td>1</td>\n",
              "    </tr>\n",
              "    <tr>\n",
              "      <th>3</th>\n",
              "      <td>21</td>\n",
              "      <td>Male</td>\n",
              "      <td>Information Technology</td>\n",
              "      <td>0</td>\n",
              "      <td>8</td>\n",
              "      <td>0</td>\n",
              "      <td>1</td>\n",
              "      <td>1</td>\n",
              "    </tr>\n",
              "    <tr>\n",
              "      <th>4</th>\n",
              "      <td>22</td>\n",
              "      <td>Male</td>\n",
              "      <td>Mechanical</td>\n",
              "      <td>0</td>\n",
              "      <td>8</td>\n",
              "      <td>1</td>\n",
              "      <td>0</td>\n",
              "      <td>1</td>\n",
              "    </tr>\n",
              "  </tbody>\n",
              "</table>\n",
              "</div>\n",
              "      <button class=\"colab-df-convert\" onclick=\"convertToInteractive('df-ff758faa-41f0-4982-89cb-2b8499cb7e4b')\"\n",
              "              title=\"Convert this dataframe to an interactive table.\"\n",
              "              style=\"display:none;\">\n",
              "        \n",
              "  <svg xmlns=\"http://www.w3.org/2000/svg\" height=\"24px\"viewBox=\"0 0 24 24\"\n",
              "       width=\"24px\">\n",
              "    <path d=\"M0 0h24v24H0V0z\" fill=\"none\"/>\n",
              "    <path d=\"M18.56 5.44l.94 2.06.94-2.06 2.06-.94-2.06-.94-.94-2.06-.94 2.06-2.06.94zm-11 1L8.5 8.5l.94-2.06 2.06-.94-2.06-.94L8.5 2.5l-.94 2.06-2.06.94zm10 10l.94 2.06.94-2.06 2.06-.94-2.06-.94-.94-2.06-.94 2.06-2.06.94z\"/><path d=\"M17.41 7.96l-1.37-1.37c-.4-.4-.92-.59-1.43-.59-.52 0-1.04.2-1.43.59L10.3 9.45l-7.72 7.72c-.78.78-.78 2.05 0 2.83L4 21.41c.39.39.9.59 1.41.59.51 0 1.02-.2 1.41-.59l7.78-7.78 2.81-2.81c.8-.78.8-2.07 0-2.86zM5.41 20L4 18.59l7.72-7.72 1.47 1.35L5.41 20z\"/>\n",
              "  </svg>\n",
              "      </button>\n",
              "      \n",
              "  <style>\n",
              "    .colab-df-container {\n",
              "      display:flex;\n",
              "      flex-wrap:wrap;\n",
              "      gap: 12px;\n",
              "    }\n",
              "\n",
              "    .colab-df-convert {\n",
              "      background-color: #E8F0FE;\n",
              "      border: none;\n",
              "      border-radius: 50%;\n",
              "      cursor: pointer;\n",
              "      display: none;\n",
              "      fill: #1967D2;\n",
              "      height: 32px;\n",
              "      padding: 0 0 0 0;\n",
              "      width: 32px;\n",
              "    }\n",
              "\n",
              "    .colab-df-convert:hover {\n",
              "      background-color: #E2EBFA;\n",
              "      box-shadow: 0px 1px 2px rgba(60, 64, 67, 0.3), 0px 1px 3px 1px rgba(60, 64, 67, 0.15);\n",
              "      fill: #174EA6;\n",
              "    }\n",
              "\n",
              "    [theme=dark] .colab-df-convert {\n",
              "      background-color: #3B4455;\n",
              "      fill: #D2E3FC;\n",
              "    }\n",
              "\n",
              "    [theme=dark] .colab-df-convert:hover {\n",
              "      background-color: #434B5C;\n",
              "      box-shadow: 0px 1px 3px 1px rgba(0, 0, 0, 0.15);\n",
              "      filter: drop-shadow(0px 1px 2px rgba(0, 0, 0, 0.3));\n",
              "      fill: #FFFFFF;\n",
              "    }\n",
              "  </style>\n",
              "\n",
              "      <script>\n",
              "        const buttonEl =\n",
              "          document.querySelector('#df-ff758faa-41f0-4982-89cb-2b8499cb7e4b button.colab-df-convert');\n",
              "        buttonEl.style.display =\n",
              "          google.colab.kernel.accessAllowed ? 'block' : 'none';\n",
              "\n",
              "        async function convertToInteractive(key) {\n",
              "          const element = document.querySelector('#df-ff758faa-41f0-4982-89cb-2b8499cb7e4b');\n",
              "          const dataTable =\n",
              "            await google.colab.kernel.invokeFunction('convertToInteractive',\n",
              "                                                     [key], {});\n",
              "          if (!dataTable) return;\n",
              "\n",
              "          const docLinkHtml = 'Like what you see? Visit the ' +\n",
              "            '<a target=\"_blank\" href=https://colab.research.google.com/notebooks/data_table.ipynb>data table notebook</a>'\n",
              "            + ' to learn more about interactive tables.';\n",
              "          element.innerHTML = '';\n",
              "          dataTable['output_type'] = 'display_data';\n",
              "          await google.colab.output.renderOutput(dataTable, element);\n",
              "          const docLink = document.createElement('div');\n",
              "          docLink.innerHTML = docLinkHtml;\n",
              "          element.appendChild(docLink);\n",
              "        }\n",
              "      </script>\n",
              "    </div>\n",
              "  </div>\n",
              "  "
            ]
          },
          "metadata": {},
          "execution_count": 6
        }
      ]
    },
    {
      "cell_type": "code",
      "source": [
        "df = df.drop(['Hostel'], axis=1)\n",
        "df = df.replace(['Male'], [0])\n",
        "df = df.replace(['Female'], [1])\n",
        "df = df.replace(['Computer Science', 'Information Technology', 'Electronics And Communication','Mechanical', 'Electrical', 'Civil'], [0,1,2,3,4,5])"
      ],
      "metadata": {
        "id": "pI3S-LogEl_k"
      },
      "execution_count": 7,
      "outputs": []
    },
    {
      "cell_type": "code",
      "source": [
        "df.head()"
      ],
      "metadata": {
        "id": "albESognFDcZ",
        "colab": {
          "base_uri": "https://localhost:8080/",
          "height": 206
        },
        "outputId": "84914bc1-7fee-419a-c500-cded32e0a517"
      },
      "execution_count": 8,
      "outputs": [
        {
          "output_type": "execute_result",
          "data": {
            "text/plain": [
              "   Age  Gender  Stream  Internships  CGPA  HistoryOfBacklogs  PlacedOrNot\n",
              "0   22       0       2            1     8                  1            1\n",
              "1   21       1       0            0     7                  1            1\n",
              "2   22       1       1            1     6                  0            1\n",
              "3   21       0       1            0     8                  1            1\n",
              "4   22       0       3            0     8                  0            1"
            ],
            "text/html": [
              "\n",
              "  <div id=\"df-f8fa3035-ef41-43c5-8d88-3faf54e9f063\">\n",
              "    <div class=\"colab-df-container\">\n",
              "      <div>\n",
              "<style scoped>\n",
              "    .dataframe tbody tr th:only-of-type {\n",
              "        vertical-align: middle;\n",
              "    }\n",
              "\n",
              "    .dataframe tbody tr th {\n",
              "        vertical-align: top;\n",
              "    }\n",
              "\n",
              "    .dataframe thead th {\n",
              "        text-align: right;\n",
              "    }\n",
              "</style>\n",
              "<table border=\"1\" class=\"dataframe\">\n",
              "  <thead>\n",
              "    <tr style=\"text-align: right;\">\n",
              "      <th></th>\n",
              "      <th>Age</th>\n",
              "      <th>Gender</th>\n",
              "      <th>Stream</th>\n",
              "      <th>Internships</th>\n",
              "      <th>CGPA</th>\n",
              "      <th>HistoryOfBacklogs</th>\n",
              "      <th>PlacedOrNot</th>\n",
              "    </tr>\n",
              "  </thead>\n",
              "  <tbody>\n",
              "    <tr>\n",
              "      <th>0</th>\n",
              "      <td>22</td>\n",
              "      <td>0</td>\n",
              "      <td>2</td>\n",
              "      <td>1</td>\n",
              "      <td>8</td>\n",
              "      <td>1</td>\n",
              "      <td>1</td>\n",
              "    </tr>\n",
              "    <tr>\n",
              "      <th>1</th>\n",
              "      <td>21</td>\n",
              "      <td>1</td>\n",
              "      <td>0</td>\n",
              "      <td>0</td>\n",
              "      <td>7</td>\n",
              "      <td>1</td>\n",
              "      <td>1</td>\n",
              "    </tr>\n",
              "    <tr>\n",
              "      <th>2</th>\n",
              "      <td>22</td>\n",
              "      <td>1</td>\n",
              "      <td>1</td>\n",
              "      <td>1</td>\n",
              "      <td>6</td>\n",
              "      <td>0</td>\n",
              "      <td>1</td>\n",
              "    </tr>\n",
              "    <tr>\n",
              "      <th>3</th>\n",
              "      <td>21</td>\n",
              "      <td>0</td>\n",
              "      <td>1</td>\n",
              "      <td>0</td>\n",
              "      <td>8</td>\n",
              "      <td>1</td>\n",
              "      <td>1</td>\n",
              "    </tr>\n",
              "    <tr>\n",
              "      <th>4</th>\n",
              "      <td>22</td>\n",
              "      <td>0</td>\n",
              "      <td>3</td>\n",
              "      <td>0</td>\n",
              "      <td>8</td>\n",
              "      <td>0</td>\n",
              "      <td>1</td>\n",
              "    </tr>\n",
              "  </tbody>\n",
              "</table>\n",
              "</div>\n",
              "      <button class=\"colab-df-convert\" onclick=\"convertToInteractive('df-f8fa3035-ef41-43c5-8d88-3faf54e9f063')\"\n",
              "              title=\"Convert this dataframe to an interactive table.\"\n",
              "              style=\"display:none;\">\n",
              "        \n",
              "  <svg xmlns=\"http://www.w3.org/2000/svg\" height=\"24px\"viewBox=\"0 0 24 24\"\n",
              "       width=\"24px\">\n",
              "    <path d=\"M0 0h24v24H0V0z\" fill=\"none\"/>\n",
              "    <path d=\"M18.56 5.44l.94 2.06.94-2.06 2.06-.94-2.06-.94-.94-2.06-.94 2.06-2.06.94zm-11 1L8.5 8.5l.94-2.06 2.06-.94-2.06-.94L8.5 2.5l-.94 2.06-2.06.94zm10 10l.94 2.06.94-2.06 2.06-.94-2.06-.94-.94-2.06-.94 2.06-2.06.94z\"/><path d=\"M17.41 7.96l-1.37-1.37c-.4-.4-.92-.59-1.43-.59-.52 0-1.04.2-1.43.59L10.3 9.45l-7.72 7.72c-.78.78-.78 2.05 0 2.83L4 21.41c.39.39.9.59 1.41.59.51 0 1.02-.2 1.41-.59l7.78-7.78 2.81-2.81c.8-.78.8-2.07 0-2.86zM5.41 20L4 18.59l7.72-7.72 1.47 1.35L5.41 20z\"/>\n",
              "  </svg>\n",
              "      </button>\n",
              "      \n",
              "  <style>\n",
              "    .colab-df-container {\n",
              "      display:flex;\n",
              "      flex-wrap:wrap;\n",
              "      gap: 12px;\n",
              "    }\n",
              "\n",
              "    .colab-df-convert {\n",
              "      background-color: #E8F0FE;\n",
              "      border: none;\n",
              "      border-radius: 50%;\n",
              "      cursor: pointer;\n",
              "      display: none;\n",
              "      fill: #1967D2;\n",
              "      height: 32px;\n",
              "      padding: 0 0 0 0;\n",
              "      width: 32px;\n",
              "    }\n",
              "\n",
              "    .colab-df-convert:hover {\n",
              "      background-color: #E2EBFA;\n",
              "      box-shadow: 0px 1px 2px rgba(60, 64, 67, 0.3), 0px 1px 3px 1px rgba(60, 64, 67, 0.15);\n",
              "      fill: #174EA6;\n",
              "    }\n",
              "\n",
              "    [theme=dark] .colab-df-convert {\n",
              "      background-color: #3B4455;\n",
              "      fill: #D2E3FC;\n",
              "    }\n",
              "\n",
              "    [theme=dark] .colab-df-convert:hover {\n",
              "      background-color: #434B5C;\n",
              "      box-shadow: 0px 1px 3px 1px rgba(0, 0, 0, 0.15);\n",
              "      filter: drop-shadow(0px 1px 2px rgba(0, 0, 0, 0.3));\n",
              "      fill: #FFFFFF;\n",
              "    }\n",
              "  </style>\n",
              "\n",
              "      <script>\n",
              "        const buttonEl =\n",
              "          document.querySelector('#df-f8fa3035-ef41-43c5-8d88-3faf54e9f063 button.colab-df-convert');\n",
              "        buttonEl.style.display =\n",
              "          google.colab.kernel.accessAllowed ? 'block' : 'none';\n",
              "\n",
              "        async function convertToInteractive(key) {\n",
              "          const element = document.querySelector('#df-f8fa3035-ef41-43c5-8d88-3faf54e9f063');\n",
              "          const dataTable =\n",
              "            await google.colab.kernel.invokeFunction('convertToInteractive',\n",
              "                                                     [key], {});\n",
              "          if (!dataTable) return;\n",
              "\n",
              "          const docLinkHtml = 'Like what you see? Visit the ' +\n",
              "            '<a target=\"_blank\" href=https://colab.research.google.com/notebooks/data_table.ipynb>data table notebook</a>'\n",
              "            + ' to learn more about interactive tables.';\n",
              "          element.innerHTML = '';\n",
              "          dataTable['output_type'] = 'display_data';\n",
              "          await google.colab.output.renderOutput(dataTable, element);\n",
              "          const docLink = document.createElement('div');\n",
              "          docLink.innerHTML = docLinkHtml;\n",
              "          element.appendChild(docLink);\n",
              "        }\n",
              "      </script>\n",
              "    </div>\n",
              "  </div>\n",
              "  "
            ]
          },
          "metadata": {},
          "execution_count": 8
        }
      ]
    },
    {
      "cell_type": "markdown",
      "source": [
        "### **VISUAL ANALYSIS - UNIVARIATE ANALYSIS**"
      ],
      "metadata": {
        "id": "XieL8oGKlRTT"
      }
    },
    {
      "cell_type": "code",
      "source": [
        "sns.distplot(df[\"CGPA\"], color='r')"
      ],
      "metadata": {
        "id": "PH9eeo0zlvtA",
        "colab": {
          "base_uri": "https://localhost:8080/",
          "height": 466
        },
        "outputId": "77e34561-07b3-4878-f20d-9e688c4e0c09"
      },
      "execution_count": 9,
      "outputs": [
        {
          "output_type": "execute_result",
          "data": {
            "text/plain": [
              "<Axes: xlabel='CGPA', ylabel='Density'>"
            ]
          },
          "metadata": {},
          "execution_count": 9
        },
        {
          "output_type": "display_data",
          "data": {
            "text/plain": [
              "<Figure size 640x480 with 1 Axes>"
            ],
            "image/png": "[encoded data removed]"
          },
          "metadata": {}
        }
      ]
    },
    {
      "cell_type": "code",
      "source": [
        "sns.distplot(df[\"PlacedOrNot\"], color='r')"
      ],
      "metadata": {
        "id": "AGvveaXRlQ0w",
        "colab": {
          "base_uri": "https://localhost:8080/",
          "height": 466
        },
        "outputId": "81d068ff-4da8-4cea-da39-13822bfe6b81"
      },
      "execution_count": 10,
      "outputs": [
        {
          "output_type": "execute_result",
          "data": {
            "text/plain": [
              "<Axes: xlabel='PlacedOrNot', ylabel='Density'>"
            ]
          },
          "metadata": {},
          "execution_count": 10
        },
        {
          "output_type": "display_data",
          "data": {
            "text/plain": [
              "<Figure size 640x480 with 1 Axes>"
            ],
            "image/png": "[encoded data removed]"
          },
          "metadata": {}
        }
      ]
    },
    {
      "cell_type": "markdown",
      "source": [
        "### **BIVARIATE ANALYSIS**"
      ],
      "metadata": {
        "id": "8rJsB3n_j8Ac"
      }
    },
    {
      "cell_type": "code",
      "source": [
        "plt.figure(figsize=(18,4))\n",
        "plt.subplot(1,4,1)\n",
        "sns.countplot(x=df['Gender'])\n",
        "plt.subplot(1,4,2)\n",
        "sns.countplot(x=df['PlacedOrNot'])\n",
        "\n",
        "plt.show()"
      ],
      "metadata": {
        "id": "RPsr5QDwj7f5",
        "colab": {
          "base_uri": "https://localhost:8080/",
          "height": 388
        },
        "outputId": "7ac21943-6981-4baf-c4df-f1e55ccdc10f"
      },
      "execution_count": 11,
      "outputs": [
        {
          "output_type": "display_data",
          "data": {
            "text/plain": [
              "<Figure size 1800x400 with 2 Axes>"
            ],
            "image/png": "[encoded data removed]"
          },
          "metadata": {}
        }
      ]
    },
    {
      "cell_type": "markdown",
      "source": [
        "### **Multivariate analysis**"
      ],
      "metadata": {
        "id": "DBm9ToW4iZJT"
      }
    },
    {
      "cell_type": "code",
      "source": [
        "plt.figure(figsize=(20,5))\n",
        "plt.subplot(131)\n",
        "sns.countplot(x=df['PlacedOrNot'], hue=df['CGPA'])\n",
        "plt.show()"
      ],
      "metadata": {
        "id": "KIjsRPAVjv_o",
        "colab": {
          "base_uri": "https://localhost:8080/",
          "height": 465
        },
        "outputId": "981bcc72-561b-46f5-9465-3d3e6989a60b"
      },
      "execution_count": 12,
      "outputs": [
        {
          "output_type": "display_data",
          "data": {
            "text/plain": [
              "<Figure size 2000x500 with 1 Axes>"
            ],
            "image/png": "[encoded data removed]"
          },
          "metadata": {}
        }
      ]
    },
    {
      "cell_type": "code",
      "source": [
        "sns.swarmplot(x=df['PlacedOrNot'],y=df['CGPA'], hue=df['Stream'])"
      ],
      "metadata": {
        "colab": {
          "base_uri": "https://localhost:8080/",
          "height": 466
        },
        "id": "8bqWrLKCicag",
        "outputId": "f45353da-a581-49d4-9a8c-d595fc773f8b"
      },
      "execution_count": 13,
      "outputs": [
        {
          "output_type": "execute_result",
          "data": {
            "text/plain": [
              "<Axes: xlabel='PlacedOrNot', ylabel='CGPA'>"
            ]
          },
          "metadata": {},
          "execution_count": 13
        },
        {
          "output_type": "display_data",
          "data": {
            "text/plain": [
              "<Figure size 640x480 with 1 Axes>"
            ],
            "image/png": "[encoded data removed]"
          },
          "metadata": {}
        }
      ]
    },
    {
      "cell_type": "markdown",
      "source": [
        "# **SCALING THE DATA**"
      ],
      "metadata": {
        "id": "giTo4ScCiCLp"
      }
    },
    {
      "cell_type": "code",
      "source": [
        "Y=df['PlacedOrNot']\n",
        "X=df.drop(['PlacedOrNot'],axis=1)"
      ],
      "metadata": {
        "id": "Uxv4UfqiJVI6"
      },
      "execution_count": 14,
      "outputs": []
    },
    {
      "cell_type": "code",
      "source": [
        "X"
      ],
      "metadata": {
        "id": "dlIxKWvKJ7U2",
        "colab": {
          "base_uri": "https://localhost:8080/",
          "height": 424
        },
        "outputId": "dd439d47-da65-4184-e6e8-08ae336e6ff7"
      },
      "execution_count": 15,
      "outputs": [
        {
          "output_type": "execute_result",
          "data": {
            "text/plain": [
              "      Age  Gender  Stream  Internships  CGPA  HistoryOfBacklogs\n",
              "0      22       0       2            1     8                  1\n",
              "1      21       1       0            0     7                  1\n",
              "2      22       1       1            1     6                  0\n",
              "3      21       0       1            0     8                  1\n",
              "4      22       0       3            0     8                  0\n",
              "...   ...     ...     ...          ...   ...                ...\n",
              "2961   23       0       1            0     7                  0\n",
              "2962   23       0       3            1     7                  0\n",
              "2963   22       0       1            1     7                  0\n",
              "2964   22       0       0            1     7                  0\n",
              "2965   23       0       5            0     8                  0\n",
              "\n",
              "[2966 rows x 6 columns]"
            ],
            "text/html": [
              "\n",
              "  <div id=\"df-aa46db4a-7f6a-4d97-92a0-412d23ffb141\">\n",
              "    <div class=\"colab-df-container\">\n",
              "      <div>\n",
              "<style scoped>\n",
              "    .dataframe tbody tr th:only-of-type {\n",
              "        vertical-align: middle;\n",
              "    }\n",
              "\n",
              "    .dataframe tbody tr th {\n",
              "        vertical-align: top;\n",
              "    }\n",
              "\n",
              "    .dataframe thead th {\n",
              "        text-align: right;\n",
              "    }\n",
              "</style>\n",
              "<table border=\"1\" class=\"dataframe\">\n",
              "  <thead>\n",
              "    <tr style=\"text-align: right;\">\n",
              "      <th></th>\n",
              "      <th>Age</th>\n",
              "      <th>Gender</th>\n",
              "      <th>Stream</th>\n",
              "      <th>Internships</th>\n",
              "      <th>CGPA</th>\n",
              "      <th>HistoryOfBacklogs</th>\n",
              "    </tr>\n",
              "  </thead>\n",
              "  <tbody>\n",
              "    <tr>\n",
              "      <th>0</th>\n",
              "      <td>22</td>\n",
              "      <td>0</td>\n",
              "      <td>2</td>\n",
              "      <td>1</td>\n",
              "      <td>8</td>\n",
              "      <td>1</td>\n",
              "    </tr>\n",
              "    <tr>\n",
              "      <th>1</th>\n",
              "      <td>21</td>\n",
              "      <td>1</td>\n",
              "      <td>0</td>\n",
              "      <td>0</td>\n",
              "      <td>7</td>\n",
              "      <td>1</td>\n",
              "    </tr>\n",
              "    <tr>\n",
              "      <th>2</th>\n",
              "      <td>22</td>\n",
              "      <td>1</td>\n",
              "      <td>1</td>\n",
              "      <td>1</td>\n",
              "      <td>6</td>\n",
              "      <td>0</td>\n",
              "    </tr>\n",
              "    <tr>\n",
              "      <th>3</th>\n",
              "      <td>21</td>\n",
              "      <td>0</td>\n",
              "      <td>1</td>\n",
              "      <td>0</td>\n",
              "      <td>8</td>\n",
              "      <td>1</td>\n",
              "    </tr>\n",
              "    <tr>\n",
              "      <th>4</th>\n",
              "      <td>22</td>\n",
              "      <td>0</td>\n",
              "      <td>3</td>\n",
              "      <td>0</td>\n",
              "      <td>8</td>\n",
              "      <td>0</td>\n",
              "    </tr>\n",
              "    <tr>\n",
              "      <th>...</th>\n",
              "      <td>...</td>\n",
              "      <td>...</td>\n",
              "      <td>...</td>\n",
              "      <td>...</td>\n",
              "      <td>...</td>\n",
              "      <td>...</td>\n",
              "    </tr>\n",
              "    <tr>\n",
              "      <th>2961</th>\n",
              "      <td>23</td>\n",
              "      <td>0</td>\n",
              "      <td>1</td>\n",
              "      <td>0</td>\n",
              "      <td>7</td>\n",
              "      <td>0</td>\n",
              "    </tr>\n",
              "    <tr>\n",
              "      <th>2962</th>\n",
              "      <td>23</td>\n",
              "      <td>0</td>\n",
              "      <td>3</td>\n",
              "      <td>1</td>\n",
              "      <td>7</td>\n",
              "      <td>0</td>\n",
              "    </tr>\n",
              "    <tr>\n",
              "      <th>2963</th>\n",
              "      <td>22</td>\n",
              "      <td>0</td>\n",
              "      <td>1</td>\n",
              "      <td>1</td>\n",
              "      <td>7</td>\n",
              "      <td>0</td>\n",
              "    </tr>\n",
              "    <tr>\n",
              "      <th>2964</th>\n",
              "      <td>22</td>\n",
              "      <td>0</td>\n",
              "      <td>0</td>\n",
              "      <td>1</td>\n",
              "      <td>7</td>\n",
              "      <td>0</td>\n",
              "    </tr>\n",
              "    <tr>\n",
              "      <th>2965</th>\n",
              "      <td>23</td>\n",
              "      <td>0</td>\n",
              "      <td>5</td>\n",
              "      <td>0</td>\n",
              "      <td>8</td>\n",
              "      <td>0</td>\n",
              "    </tr>\n",
              "  </tbody>\n",
              "</table>\n",
              "<p>2966 rows × 6 columns</p>\n",
              "</div>\n",
              "      <button class=\"colab-df-convert\" onclick=\"convertToInteractive('df-aa46db4a-7f6a-4d97-92a0-412d23ffb141')\"\n",
              "              title=\"Convert this dataframe to an interactive table.\"\n",
              "              style=\"display:none;\">\n",
              "        \n",
              "  <svg xmlns=\"http://www.w3.org/2000/svg\" height=\"24px\"viewBox=\"0 0 24 24\"\n",
              "       width=\"24px\">\n",
              "    <path d=\"M0 0h24v24H0V0z\" fill=\"none\"/>\n",
              "    <path d=\"M18.56 5.44l.94 2.06.94-2.06 2.06-.94-2.06-.94-.94-2.06-.94 2.06-2.06.94zm-11 1L8.5 8.5l.94-2.06 2.06-.94-2.06-.94L8.5 2.5l-.94 2.06-2.06.94zm10 10l.94 2.06.94-2.06 2.06-.94-2.06-.94-.94-2.06-.94 2.06-2.06.94z\"/><path d=\"M17.41 7.96l-1.37-1.37c-.4-.4-.92-.59-1.43-.59-.52 0-1.04.2-1.43.59L10.3 9.45l-7.72 7.72c-.78.78-.78 2.05 0 2.83L4 21.41c.39.39.9.59 1.41.59.51 0 1.02-.2 1.41-.59l7.78-7.78 2.81-2.81c.8-.78.8-2.07 0-2.86zM5.41 20L4 18.59l7.72-7.72 1.47 1.35L5.41 20z\"/>\n",
              "  </svg>\n",
              "      </button>\n",
              "      \n",
              "  <style>\n",
              "    .colab-df-container {\n",
              "      display:flex;\n",
              "      flex-wrap:wrap;\n",
              "      gap: 12px;\n",
              "    }\n",
              "\n",
              "    .colab-df-convert {\n",
              "      background-color: #E8F0FE;\n",
              "      border: none;\n",
              "      border-radius: 50%;\n",
              "      cursor: pointer;\n",
              "      display: none;\n",
              "      fill: #1967D2;\n",
              "      height: 32px;\n",
              "      padding: 0 0 0 0;\n",
              "      width: 32px;\n",
              "    }\n",
              "\n",
              "    .colab-df-convert:hover {\n",
              "      background-color: #E2EBFA;\n",
              "      box-shadow: 0px 1px 2px rgba(60, 64, 67, 0.3), 0px 1px 3px 1px rgba(60, 64, 67, 0.15);\n",
              "      fill: #174EA6;\n",
              "    }\n",
              "\n",
              "    [theme=dark] .colab-df-convert {\n",
              "      background-color: #3B4455;\n",
              "      fill: #D2E3FC;\n",
              "    }\n",
              "\n",
              "    [theme=dark] .colab-df-convert:hover {\n",
              "      background-color: #434B5C;\n",
              "      box-shadow: 0px 1px 3px 1px rgba(0, 0, 0, 0.15);\n",
              "      filter: drop-shadow(0px 1px 2px rgba(0, 0, 0, 0.3));\n",
              "      fill: #FFFFFF;\n",
              "    }\n",
              "  </style>\n",
              "\n",
              "      <script>\n",
              "        const buttonEl =\n",
              "          document.querySelector('#df-aa46db4a-7f6a-4d97-92a0-412d23ffb141 button.colab-df-convert');\n",
              "        buttonEl.style.display =\n",
              "          google.colab.kernel.accessAllowed ? 'block' : 'none';\n",
              "\n",
              "        async function convertToInteractive(key) {\n",
              "          const element = document.querySelector('#df-aa46db4a-7f6a-4d97-92a0-412d23ffb141');\n",
              "          const dataTable =\n",
              "            await google.colab.kernel.invokeFunction('convertToInteractive',\n",
              "                                                     [key], {});\n",
              "          if (!dataTable) return;\n",
              "\n",
              "          const docLinkHtml = 'Like what you see? Visit the ' +\n",
              "            '<a target=\"_blank\" href=https://colab.research.google.com/notebooks/data_table.ipynb>data table notebook</a>'\n",
              "            + ' to learn more about interactive tables.';\n",
              "          element.innerHTML = '';\n",
              "          dataTable['output_type'] = 'display_data';\n",
              "          await google.colab.output.renderOutput(dataTable, element);\n",
              "          const docLink = document.createElement('div');\n",
              "          docLink.innerHTML = docLinkHtml;\n",
              "          element.appendChild(docLink);\n",
              "        }\n",
              "      </script>\n",
              "    </div>\n",
              "  </div>\n",
              "  "
            ]
          },
          "metadata": {},
          "execution_count": 15
        }
      ]
    },
    {
      "cell_type": "markdown",
      "source": [
        "### **SPLITTING THE DATA INTO TRAIN AND TEST**"
      ],
      "metadata": {
        "id": "SofMeymah4ge"
      }
    },
    {
      "cell_type": "code",
      "source": [
        "X_train, X_test, Y_train, Y_test = train_test_split(X,Y, test_size =0.2, stratify=Y, random_state=2 )"
      ],
      "metadata": {
        "id": "4m39Z1eVHsxp"
      },
      "execution_count": 16,
      "outputs": []
    },
    {
      "cell_type": "markdown",
      "source": [
        "## **SVM MODEL**"
      ],
      "metadata": {
        "id": "C0p1TX9ZhuS-"
      }
    },
    {
      "cell_type": "code",
      "source": [
        "classifier = svm.SVC(kernel='linear')\n"
      ],
      "metadata": {
        "id": "EVCf2tMxKuzn"
      },
      "execution_count": 17,
      "outputs": []
    },
    {
      "cell_type": "code",
      "source": [
        "classifier.fit(X_train, Y_train)"
      ],
      "metadata": {
        "id": "zELODGwPK3pQ",
        "colab": {
          "base_uri": "https://localhost:8080/",
          "height": 75
        },
        "outputId": "4faf9fd9-b92a-4446-a61c-4fcde6be98f8"
      },
      "execution_count": 18,
      "outputs": [
        {
          "output_type": "execute_result",
          "data": {
            "text/plain": [
              "SVC(kernel='linear')"
            ],
            "text/html": [
              "<style>#sk-container-id-1 {color: black;background-color: white;}#sk-container-id-1 pre{padding: 0;}#sk-container-id-1 div.sk-toggleable {background-color: white;}#sk-container-id-1 label.sk-toggleable__label {cursor: pointer;display: block;width: 100%;margin-bottom: 0;padding: 0.3em;box-sizing: border-box;text-align: center;}#sk-container-id-1 label.sk-toggleable__label-arrow:before {content: \"▸\";float: left;margin-right: 0.25em;color: #696969;}#sk-container-id-1 label.sk-toggleable__label-arrow:hover:before {color: black;}#sk-container-id-1 div.sk-estimator:hover label.sk-toggleable__label-arrow:before {color: black;}#sk-container-id-1 div.sk-toggleable__content {max-height: 0;max-width: 0;overflow: hidden;text-align: left;background-color: #f0f8ff;}#sk-container-id-1 div.sk-toggleable__content pre {margin: 0.2em;color: black;border-radius: 0.25em;background-color: #f0f8ff;}#sk-container-id-1 input.sk-toggleable__control:checked~div.sk-toggleable__content {max-height: 200px;max-width: 100%;overflow: auto;}#sk-container-id-1 input.sk-toggleable__control:checked~label.sk-toggleable__label-arrow:before {content: \"▾\";}#sk-container-id-1 div.sk-estimator input.sk-toggleable__control:checked~label.sk-toggleable__label {background-color: #d4ebff;}#sk-container-id-1 div.sk-label input.sk-toggleable__control:checked~label.sk-toggleable__label {background-color: #d4ebff;}#sk-container-id-1 input.sk-hidden--visually {border: 0;clip: rect(1px 1px 1px 1px);clip: rect(1px, 1px, 1px, 1px);height: 1px;margin: -1px;overflow: hidden;padding: 0;position: absolute;width: 1px;}#sk-container-id-1 div.sk-estimator {font-family: monospace;background-color: #f0f8ff;border: 1px dotted black;border-radius: 0.25em;box-sizing: border-box;margin-bottom: 0.5em;}#sk-container-id-1 div.sk-estimator:hover {background-color: #d4ebff;}#sk-container-id-1 div.sk-parallel-item::after {content: \"\";width: 100%;border-bottom: 1px solid gray;flex-grow: 1;}#sk-container-id-1 div.sk-label:hover label.sk-toggleable__label {background-color: #d4ebff;}#sk-container-id-1 div.sk-serial::before {content: \"\";position: absolute;border-left: 1px solid gray;box-sizing: border-box;top: 0;bottom: 0;left: 50%;z-index: 0;}#sk-container-id-1 div.sk-serial {display: flex;flex-direction: column;align-items: center;background-color: white;padding-right: 0.2em;padding-left: 0.2em;position: relative;}#sk-container-id-1 div.sk-item {position: relative;z-index: 1;}#sk-container-id-1 div.sk-parallel {display: flex;align-items: stretch;justify-content: center;background-color: white;position: relative;}#sk-container-id-1 div.sk-item::before, #sk-container-id-1 div.sk-parallel-item::before {content: \"\";position: absolute;border-left: 1px solid gray;box-sizing: border-box;top: 0;bottom: 0;left: 50%;z-index: -1;}#sk-container-id-1 div.sk-parallel-item {display: flex;flex-direction: column;z-index: 1;position: relative;background-color: white;}#sk-container-id-1 div.sk-parallel-item:first-child::after {align-self: flex-end;width: 50%;}#sk-container-id-1 div.sk-parallel-item:last-child::after {align-self: flex-start;width: 50%;}#sk-container-id-1 div.sk-parallel-item:only-child::after {width: 0;}#sk-container-id-1 div.sk-dashed-wrapped {border: 1px dashed gray;margin: 0 0.4em 0.5em 0.4em;box-sizing: border-box;padding-bottom: 0.4em;background-color: white;}#sk-container-id-1 div.sk-label label {font-family: monospace;font-weight: bold;display: inline-block;line-height: 1.2em;}#sk-container-id-1 div.sk-label-container {text-align: center;}#sk-container-id-1 div.sk-container {/* jupyter's `normalize.less` sets `[hidden] { display: none; }` but bootstrap.min.css set `[hidden] { display: none !important; }` so we also need the `!important` here to be able to override the default hidden behavior on the sphinx rendered scikit-learn.org. See: https://github.com/scikit-learn/scikit-learn/issues/21755 */display: inline-block !important;position: relative;}#sk-container-id-1 div.sk-text-repr-fallback {display: none;}</style><div id=\"sk-container-id-1\" class=\"sk-top-container\"><div class=\"sk-text-repr-fallback\"><pre>SVC(kernel=&#x27;linear&#x27;)</pre><b>In a Jupyter environment, please rerun this cell to show the HTML representation or trust the notebook. <br />On GitHub, the HTML representation is unable to render, please try loading this page with nbviewer.org.</b></div><div class=\"sk-container\" hidden><div class=\"sk-item\"><div class=\"sk-estimator sk-toggleable\"><input class=\"sk-toggleable__control sk-hidden--visually\" id=\"sk-estimator-id-1\" type=\"checkbox\" checked><label for=\"sk-estimator-id-1\" class=\"sk-toggleable__label sk-toggleable__label-arrow\">SVC</label><div class=\"sk-toggleable__content\"><pre>SVC(kernel=&#x27;linear&#x27;)</pre></div></div></div></div></div>"
            ]
          },
          "metadata": {},
          "execution_count": 18
        }
      ]
    },
    {
      "cell_type": "code",
      "source": [
        "X_train_prediction = classifier.predict(X_train)\n",
        "training_data_accuracy = accuracy_score(X_train_prediction, Y_train)"
      ],
      "metadata": {
        "id": "jujRoDFGK3im"
      },
      "execution_count": 19,
      "outputs": []
    },
    {
      "cell_type": "code",
      "source": [
        "print('Accuracy score of the training data:',training_data_accuracy)"
      ],
      "metadata": {
        "id": "bFxYqJogLt61",
        "colab": {
          "base_uri": "https://localhost:8080/"
        },
        "outputId": "d79419ae-2de5-45ea-e0e9-8d39b5214d7f"
      },
      "execution_count": 20,
      "outputs": [
        {
          "output_type": "stream",
          "name": "stdout",
          "text": [
            "Accuracy score of the training data: 0.7685497470489039\n"
          ]
        }
      ]
    },
    {
      "cell_type": "markdown",
      "source": [
        "# **KNN MODEL**"
      ],
      "metadata": {
        "id": "n_LEJsrRhlBo"
      }
    },
    {
      "cell_type": "code",
      "source": [
        "best_k={\"Regular\":0}\n",
        "best_score={\"Regular\":0}\n",
        "for k in range(3,50,2):\n",
        "  knn_temp= KNeighborsClassifier(n_neighbors=k)\n",
        "  knn_temp.fit(X_train, Y_train)\n",
        "  knn_temp_pred= knn_temp.predict(X_test)\n",
        "  score = metrics.accuracy_score(Y_test, knn_temp_pred)*100\n",
        "  if score >= best_score[\"Regular\"] and score < 100:\n",
        "    best_score[\"Regular\"]=score\n",
        "    best_k[\"Regular\"]=k"
      ],
      "metadata": {
        "id": "0gCVe3k5MMvU"
      },
      "execution_count": 21,
      "outputs": []
    },
    {
      "cell_type": "code",
      "source": [
        "print(\"---Result---\\n: {}\\nScore:{}\".format(best_k,best_score))\n",
        "knn= KNeighborsClassifier(n_neighbors=best_k[\"Regular\"])\n",
        "knn.fit(X_train,Y_train)\n",
        "knn_pred=knn.predict(X_test)\n",
        "testd=accuracy_score(knn_pred,Y_test)"
      ],
      "metadata": {
        "id": "gdy5XKp-NlMm",
        "colab": {
          "base_uri": "https://localhost:8080/"
        },
        "outputId": "f96a435f-1fc8-4c5d-f7fc-e1b480dc8c5d"
      },
      "execution_count": 22,
      "outputs": [
        {
          "output_type": "stream",
          "name": "stdout",
          "text": [
            "---Result---\n",
            ": {'Regular': 21}\n",
            "Score:{'Regular': 87.7104377104377}\n"
          ]
        }
      ]
    },
    {
      "cell_type": "markdown",
      "source": [
        "# **ARTIFICAL NEURAL NETWORK MODEL**"
      ],
      "metadata": {
        "id": "EDhJ2WXUhSKs"
      }
    },
    {
      "cell_type": "code",
      "source": [
        "import tensorflow as tf\n",
        "from tensorflow import keras\n",
        "from keras.models import Sequential\n",
        "from tensorflow.keras import layers"
      ],
      "metadata": {
        "id": "r9rp5Oc_Vge1"
      },
      "execution_count": 23,
      "outputs": []
    },
    {
      "cell_type": "code",
      "source": [
        "classifier = Sequential()\n",
        "\n",
        "classifier.add(keras.layers.Dense(units=6,activation ='relu',input_dim=6))\n",
        "classifier.add(keras.layers.Dropout(0.50))\n",
        "\n",
        "classifier.add(keras.layers.Dense(units=6,activation ='relu'))\n",
        "classifier.add(keras.layers.Dropout(0.50))\n",
        "\n",
        "classifier.add(keras.layers.Dense(units=1,activation ='sigmoid'))\n",
        "\n",
        "loss_1 = tf. keras.losses.BinaryCrossentropy()\n",
        "classifier.compile(optimizer='Adam',loss=loss_1, metrics = ['accuracy'])\n",
        "\n",
        "classifier.fit(X_train, Y_train, batch_size =20, epochs=100)"
      ],
      "metadata": {
        "id": "7DQANrSMcLgi",
        "colab": {
          "base_uri": "https://localhost:8080/"
        },
        "outputId": "b5870be0-4a74-408f-a257-3228a7f09f38"
      },
      "execution_count": 24,
      "outputs": [
        {
          "output_type": "stream",
          "name": "stdout",
          "text": [
            "Epoch 1/100\n",
            "119/119 [==============================] - 2s 3ms/step - loss: 3.1854 - accuracy: 0.5143\n",
            "Epoch 2/100\n",
            "119/119 [==============================] - 0s 2ms/step - loss: 1.5348 - accuracy: 0.5097\n",
            "Epoch 3/100\n",
            "119/119 [==============================] - 0s 3ms/step - loss: 0.9182 - accuracy: 0.4996\n",
            "Epoch 4/100\n",
            "119/119 [==============================] - 0s 3ms/step - loss: 0.7561 - accuracy: 0.4933\n",
            "Epoch 5/100\n",
            "119/119 [==============================] - 0s 2ms/step - loss: 0.7076 - accuracy: 0.4928\n",
            "Epoch 6/100\n",
            "119/119 [==============================] - 0s 2ms/step - loss: 0.6860 - accuracy: 0.5105\n",
            "Epoch 7/100\n",
            "119/119 [==============================] - 0s 2ms/step - loss: 0.6739 - accuracy: 0.5493\n",
            "Epoch 8/100\n",
            "119/119 [==============================] - 0s 2ms/step - loss: 0.6624 - accuracy: 0.5594\n",
            "Epoch 9/100\n",
            "119/119 [==============================] - 0s 2ms/step - loss: 0.6574 - accuracy: 0.5721\n",
            "Epoch 10/100\n",
            "119/119 [==============================] - 0s 2ms/step - loss: 0.6482 - accuracy: 0.5784\n",
            "Epoch 11/100\n",
            "119/119 [==============================] - 0s 2ms/step - loss: 0.6438 - accuracy: 0.5746\n",
            "Epoch 12/100\n",
            "119/119 [==============================] - 0s 2ms/step - loss: 0.6559 - accuracy: 0.5548\n",
            "Epoch 13/100\n",
            "119/119 [==============================] - 0s 2ms/step - loss: 0.6469 - accuracy: 0.5540\n",
            "Epoch 14/100\n",
            "119/119 [==============================] - 0s 2ms/step - loss: 0.6378 - accuracy: 0.5746\n",
            "Epoch 15/100\n",
            "119/119 [==============================] - 0s 2ms/step - loss: 0.6377 - accuracy: 0.5725\n",
            "Epoch 16/100\n",
            "119/119 [==============================] - 0s 2ms/step - loss: 0.6330 - accuracy: 0.5822\n",
            "Epoch 17/100\n",
            "119/119 [==============================] - 0s 2ms/step - loss: 0.6326 - accuracy: 0.5890\n",
            "Epoch 18/100\n",
            "119/119 [==============================] - 0s 3ms/step - loss: 0.6338 - accuracy: 0.5856\n",
            "Epoch 19/100\n",
            "119/119 [==============================] - 0s 3ms/step - loss: 0.6209 - accuracy: 0.6050\n",
            "Epoch 20/100\n",
            "119/119 [==============================] - 0s 2ms/step - loss: 0.6156 - accuracy: 0.6168\n",
            "Epoch 21/100\n",
            "119/119 [==============================] - 0s 2ms/step - loss: 0.6225 - accuracy: 0.5919\n",
            "Epoch 22/100\n",
            "119/119 [==============================] - 0s 3ms/step - loss: 0.6227 - accuracy: 0.5995\n",
            "Epoch 23/100\n",
            "119/119 [==============================] - 0s 2ms/step - loss: 0.6136 - accuracy: 0.6088\n",
            "Epoch 24/100\n",
            "119/119 [==============================] - 0s 2ms/step - loss: 0.6162 - accuracy: 0.6138\n",
            "Epoch 25/100\n",
            "119/119 [==============================] - 0s 3ms/step - loss: 0.6112 - accuracy: 0.6142\n",
            "Epoch 26/100\n",
            "119/119 [==============================] - 0s 2ms/step - loss: 0.6117 - accuracy: 0.6092\n",
            "Epoch 27/100\n",
            "119/119 [==============================] - 0s 2ms/step - loss: 0.6079 - accuracy: 0.6164\n",
            "Epoch 28/100\n",
            "119/119 [==============================] - 0s 2ms/step - loss: 0.6012 - accuracy: 0.6235\n",
            "Epoch 29/100\n",
            "119/119 [==============================] - 0s 2ms/step - loss: 0.5936 - accuracy: 0.6328\n",
            "Epoch 30/100\n",
            "119/119 [==============================] - 0s 2ms/step - loss: 0.6008 - accuracy: 0.6197\n",
            "Epoch 31/100\n",
            "119/119 [==============================] - 0s 2ms/step - loss: 0.5980 - accuracy: 0.6311\n",
            "Epoch 32/100\n",
            "119/119 [==============================] - 0s 2ms/step - loss: 0.6014 - accuracy: 0.6265\n",
            "Epoch 33/100\n",
            "119/119 [==============================] - 0s 2ms/step - loss: 0.5955 - accuracy: 0.6269\n",
            "Epoch 34/100\n",
            "119/119 [==============================] - 0s 2ms/step - loss: 0.5861 - accuracy: 0.6379\n",
            "Epoch 35/100\n",
            "119/119 [==============================] - 0s 2ms/step - loss: 0.5926 - accuracy: 0.6269\n",
            "Epoch 36/100\n",
            "119/119 [==============================] - 0s 2ms/step - loss: 0.5888 - accuracy: 0.6358\n",
            "Epoch 37/100\n",
            "119/119 [==============================] - 0s 2ms/step - loss: 0.5874 - accuracy: 0.6438\n",
            "Epoch 38/100\n",
            "119/119 [==============================] - 0s 4ms/step - loss: 0.5900 - accuracy: 0.6315\n",
            "Epoch 39/100\n",
            "119/119 [==============================] - 1s 4ms/step - loss: 0.5910 - accuracy: 0.6366\n",
            "Epoch 40/100\n",
            "119/119 [==============================] - 0s 4ms/step - loss: 0.5916 - accuracy: 0.6345\n",
            "Epoch 41/100\n",
            "119/119 [==============================] - 0s 3ms/step - loss: 0.5956 - accuracy: 0.6324\n",
            "Epoch 42/100\n",
            "119/119 [==============================] - 0s 3ms/step - loss: 0.5956 - accuracy: 0.6261\n",
            "Epoch 43/100\n",
            "119/119 [==============================] - 0s 4ms/step - loss: 0.5791 - accuracy: 0.6471\n",
            "Epoch 44/100\n",
            "119/119 [==============================] - 1s 4ms/step - loss: 0.5917 - accuracy: 0.6353\n",
            "Epoch 45/100\n",
            "119/119 [==============================] - 0s 2ms/step - loss: 0.5799 - accuracy: 0.6421\n",
            "Epoch 46/100\n",
            "119/119 [==============================] - 0s 3ms/step - loss: 0.5880 - accuracy: 0.6374\n",
            "Epoch 47/100\n",
            "119/119 [==============================] - 0s 2ms/step - loss: 0.5843 - accuracy: 0.6387\n",
            "Epoch 48/100\n",
            "119/119 [==============================] - 0s 3ms/step - loss: 0.5844 - accuracy: 0.6349\n",
            "Epoch 49/100\n",
            "119/119 [==============================] - 0s 2ms/step - loss: 0.5751 - accuracy: 0.6488\n",
            "Epoch 50/100\n",
            "119/119 [==============================] - 0s 2ms/step - loss: 0.5918 - accuracy: 0.6265\n",
            "Epoch 51/100\n",
            "119/119 [==============================] - 0s 2ms/step - loss: 0.5782 - accuracy: 0.6366\n",
            "Epoch 52/100\n",
            "119/119 [==============================] - 0s 2ms/step - loss: 0.5793 - accuracy: 0.6362\n",
            "Epoch 53/100\n",
            "119/119 [==============================] - 0s 2ms/step - loss: 0.5772 - accuracy: 0.6421\n",
            "Epoch 54/100\n",
            "119/119 [==============================] - 0s 2ms/step - loss: 0.5855 - accuracy: 0.6298\n",
            "Epoch 55/100\n",
            "119/119 [==============================] - 0s 2ms/step - loss: 0.5851 - accuracy: 0.6298\n",
            "Epoch 56/100\n",
            "119/119 [==============================] - 0s 2ms/step - loss: 0.5717 - accuracy: 0.6509\n",
            "Epoch 57/100\n",
            "119/119 [==============================] - 0s 2ms/step - loss: 0.5805 - accuracy: 0.6286\n",
            "Epoch 58/100\n",
            "119/119 [==============================] - 0s 2ms/step - loss: 0.5726 - accuracy: 0.6404\n",
            "Epoch 59/100\n",
            "119/119 [==============================] - 0s 2ms/step - loss: 0.5812 - accuracy: 0.6349\n",
            "Epoch 60/100\n",
            "119/119 [==============================] - 0s 2ms/step - loss: 0.5760 - accuracy: 0.6387\n",
            "Epoch 61/100\n",
            "119/119 [==============================] - 0s 2ms/step - loss: 0.5801 - accuracy: 0.6345\n",
            "Epoch 62/100\n",
            "119/119 [==============================] - 0s 2ms/step - loss: 0.5827 - accuracy: 0.6412\n",
            "Epoch 63/100\n",
            "119/119 [==============================] - 0s 2ms/step - loss: 0.5821 - accuracy: 0.6366\n",
            "Epoch 64/100\n",
            "119/119 [==============================] - 0s 2ms/step - loss: 0.5754 - accuracy: 0.6421\n",
            "Epoch 65/100\n",
            "119/119 [==============================] - 0s 2ms/step - loss: 0.5844 - accuracy: 0.6294\n",
            "Epoch 66/100\n",
            "119/119 [==============================] - 0s 2ms/step - loss: 0.5795 - accuracy: 0.6349\n",
            "Epoch 67/100\n",
            "119/119 [==============================] - 0s 2ms/step - loss: 0.5787 - accuracy: 0.6328\n",
            "Epoch 68/100\n",
            "119/119 [==============================] - 0s 2ms/step - loss: 0.5874 - accuracy: 0.6307\n",
            "Epoch 69/100\n",
            "119/119 [==============================] - 0s 2ms/step - loss: 0.5814 - accuracy: 0.6328\n",
            "Epoch 70/100\n",
            "119/119 [==============================] - 0s 2ms/step - loss: 0.5725 - accuracy: 0.6387\n",
            "Epoch 71/100\n",
            "119/119 [==============================] - 0s 2ms/step - loss: 0.5765 - accuracy: 0.6387\n",
            "Epoch 72/100\n",
            "119/119 [==============================] - 0s 2ms/step - loss: 0.5761 - accuracy: 0.6345\n",
            "Epoch 73/100\n",
            "119/119 [==============================] - 0s 2ms/step - loss: 0.5720 - accuracy: 0.6488\n",
            "Epoch 74/100\n",
            "119/119 [==============================] - 0s 2ms/step - loss: 0.5756 - accuracy: 0.6395\n",
            "Epoch 75/100\n",
            "119/119 [==============================] - 0s 2ms/step - loss: 0.5707 - accuracy: 0.6425\n",
            "Epoch 76/100\n",
            "119/119 [==============================] - 0s 2ms/step - loss: 0.5788 - accuracy: 0.6400\n",
            "Epoch 77/100\n",
            "119/119 [==============================] - 0s 2ms/step - loss: 0.5926 - accuracy: 0.6185\n",
            "Epoch 78/100\n",
            "119/119 [==============================] - 0s 2ms/step - loss: 0.5804 - accuracy: 0.6290\n",
            "Epoch 79/100\n",
            "119/119 [==============================] - 0s 2ms/step - loss: 0.5754 - accuracy: 0.6391\n",
            "Epoch 80/100\n",
            "119/119 [==============================] - 0s 2ms/step - loss: 0.5681 - accuracy: 0.6484\n",
            "Epoch 81/100\n",
            "119/119 [==============================] - 0s 2ms/step - loss: 0.5825 - accuracy: 0.6341\n",
            "Epoch 82/100\n",
            "119/119 [==============================] - 0s 2ms/step - loss: 0.5676 - accuracy: 0.6526\n",
            "Epoch 83/100\n",
            "119/119 [==============================] - 0s 3ms/step - loss: 0.5650 - accuracy: 0.6501\n",
            "Epoch 84/100\n",
            "119/119 [==============================] - 0s 3ms/step - loss: 0.5726 - accuracy: 0.6446\n",
            "Epoch 85/100\n",
            "119/119 [==============================] - 0s 3ms/step - loss: 0.5759 - accuracy: 0.6336\n",
            "Epoch 86/100\n",
            "119/119 [==============================] - 0s 3ms/step - loss: 0.5878 - accuracy: 0.6311\n",
            "Epoch 87/100\n",
            "119/119 [==============================] - 0s 3ms/step - loss: 0.5712 - accuracy: 0.6442\n",
            "Epoch 88/100\n",
            "119/119 [==============================] - 0s 3ms/step - loss: 0.5772 - accuracy: 0.6282\n",
            "Epoch 89/100\n",
            "119/119 [==============================] - 0s 3ms/step - loss: 0.5770 - accuracy: 0.6328\n",
            "Epoch 90/100\n",
            "119/119 [==============================] - 0s 3ms/step - loss: 0.5691 - accuracy: 0.6370\n",
            "Epoch 91/100\n",
            "119/119 [==============================] - 0s 2ms/step - loss: 0.5748 - accuracy: 0.6425\n",
            "Epoch 92/100\n",
            "119/119 [==============================] - 0s 2ms/step - loss: 0.5695 - accuracy: 0.6463\n",
            "Epoch 93/100\n",
            "119/119 [==============================] - 0s 2ms/step - loss: 0.5845 - accuracy: 0.6303\n",
            "Epoch 94/100\n",
            "119/119 [==============================] - 0s 2ms/step - loss: 0.5718 - accuracy: 0.6387\n",
            "Epoch 95/100\n",
            "119/119 [==============================] - 0s 2ms/step - loss: 0.5744 - accuracy: 0.6366\n",
            "Epoch 96/100\n",
            "119/119 [==============================] - 0s 2ms/step - loss: 0.5893 - accuracy: 0.6332\n",
            "Epoch 97/100\n",
            "119/119 [==============================] - 0s 2ms/step - loss: 0.5687 - accuracy: 0.6467\n",
            "Epoch 98/100\n",
            "119/119 [==============================] - 0s 2ms/step - loss: 0.5766 - accuracy: 0.6345\n",
            "Epoch 99/100\n",
            "119/119 [==============================] - 0s 2ms/step - loss: 0.5727 - accuracy: 0.6395\n",
            "Epoch 100/100\n",
            "119/119 [==============================] - 0s 2ms/step - loss: 0.5729 - accuracy: 0.6408\n"
          ]
        },
        {
          "output_type": "execute_result",
          "data": {
            "text/plain": [
              "<keras.callbacks.History at 0x7fcc15018eb0>"
            ]
          },
          "metadata": {},
          "execution_count": 24
        }
      ]
    },
    {
      "cell_type": "code",
      "source": [
        "import pickle\n",
        "\n",
        "pickle.dump(knn,open(\"placement.pkl\",'wb'))\n",
        "model = pickle.load(open('placement.pkl','rb'))"
      ],
      "metadata": {
        "id": "us_vesaUgtm7"
      },
      "execution_count": 25,
      "outputs": []
    }
  ]
}